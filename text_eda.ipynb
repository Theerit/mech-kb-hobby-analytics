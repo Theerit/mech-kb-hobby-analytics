{
 "cells": [
  {
   "cell_type": "code",
   "execution_count": null,
   "id": "c1648570-dca7-4ad5-93a6-7bbcfd56ccf7",
   "metadata": {},
   "outputs": [],
   "source": [
    "import re\n",
    "import os\n",
    "import json\n",
    "import pandas as pd"
   ]
  },
  {
   "cell_type": "code",
   "execution_count": null,
   "id": "fcf598fa-9c78-484e-8ce9-0879b9bcf792",
   "metadata": {},
   "outputs": [],
   "source": [
    "scraped_data = json.load(open(\"scrapped_data.json\", \"r\"))\n",
    "\n",
    "regex_pattern = '(\\w*):\\s*\\*\\*\\s*\\$(\\d*\\-*\\d*)\\*\\*'\n",
    "\n",
    "re.findall(regex_pattern, scraped_data[0]['sticky_comment'].replace('\\n', ''))"
   ]
  },
  {
   "cell_type": "code",
   "execution_count": null,
   "id": "ccc3698f-9d82-4ae0-8cb1-8ff5286ad329",
   "metadata": {},
   "outputs": [],
   "source": []
  },
  {
   "cell_type": "markdown",
   "id": "efd4bb1a-88c2-4d35-8a9d-c8d760f54784",
   "metadata": {},
   "source": [
    "### Distribution of price"
   ]
  },
  {
   "cell_type": "markdown",
   "id": "b8b8d692-0d45-4816-bcc5-c0ca989d023a",
   "metadata": {},
   "source": [
    "### Distribution of Keyboard Type "
   ]
  },
  {
   "cell_type": "markdown",
   "id": "15adf390-4547-446b-9fa8-44f106953d42",
   "metadata": {},
   "source": [
    "### Distribution of the Studio "
   ]
  },
  {
   "cell_type": "markdown",
   "id": "f077b324-1425-4789-ac8e-ca00bdc5594f",
   "metadata": {},
   "source": [
    "### Visualization of number of active group buy in a Year (maybe a stack chart of avaialble group buys/ price need to buy everything, etc.)"
   ]
  },
  {
   "cell_type": "markdown",
   "id": "93b065a3-6002-4858-9cab-e6ab4625f320",
   "metadata": {},
   "source": [
    "### Time from Group Buy to Release (as per the initial announcement data)"
   ]
  },
  {
   "cell_type": "code",
   "execution_count": null,
   "id": "8a9d2612-e8b0-449b-98de-10b2bf509ba6",
   "metadata": {},
   "outputs": [],
   "source": []
  }
 ],
 "metadata": {
  "kernelspec": {
   "display_name": "Python 3 (ipykernel)",
   "language": "python",
   "name": "python3"
  },
  "language_info": {
   "codemirror_mode": {
    "name": "ipython",
    "version": 3
   },
   "file_extension": ".py",
   "mimetype": "text/x-python",
   "name": "python",
   "nbconvert_exporter": "python",
   "pygments_lexer": "ipython3",
   "version": "3.10.9"
  }
 },
 "nbformat": 4,
 "nbformat_minor": 5
}

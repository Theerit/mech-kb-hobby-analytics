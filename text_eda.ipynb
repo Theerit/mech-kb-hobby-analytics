{
 "cells": [
  {
   "cell_type": "code",
   "execution_count": null,
   "id": "c1648570-dca7-4ad5-93a6-7bbcfd56ccf7",
   "metadata": {},
   "outputs": [],
   "source": [
    "import re\n",
    "import os\n",
    "import json\n",
    "import datetime as dt\n",
    "import pandas as pd"
   ]
  },
  {
   "cell_type": "code",
   "execution_count": null,
   "id": "a04b6ff5-8c4a-40a0-bf56-7e7e9061d460",
   "metadata": {},
   "outputs": [],
   "source": [
    "def process_date(start_date, end_date):\n",
    "  \"\"\"Create helper function to use for starting, ending date of group buy\n",
    "      Case1: has month day, year in the string\n",
    "      Case2: Has only month and day -> has to infer from the other dates\n",
    "      Case3: Sold out\n",
    "  \"\"\"\n",
    "  \n",
    "  ymd_pattern = '(\\D*)\\s*(\\d{1,2})\\s*(?:rd|th|st|nd)*\\,*\\s*(\\d{4})*'\n",
    "  \n",
    "  start_tup = re.search(ymd_pattern, start_date)\n",
    "  start_m, start_d, start_y = start_tup.group(1), start_tup.group(2), start_tup.group(3)\n",
    "  \n",
    "  if end_date != 'sold out': \n",
    "    end_tup = re.search(ymd_pattern, end_date)\n",
    "    end_m, end_d, end_y = end_tup.group(1), end_tup.group(2), end_tup.group(3)    \n",
    "    if end_y is None and start_y is not None: end_y = start_y\n",
    "  \n",
    "  if start_y is None and end_y is not None: start_y = end_y  \n",
    "  \n",
    "  out_start_date = dt.datetime.strptime(f\"{start_d.strip()}-{start_m.strip()}-{start_y.strip()}\", '%d-%B-%Y')\n",
    "  if end_date == 'sold out': out_end_date = end_date\n",
    "  else:\n",
    "    out_end_date = dt.datetime.strptime(f\"{end_d.strip()}-{end_m.strip()}-{end_y.strip()}\", '%d-%B-%Y')\n",
    "  \n",
    "  return out_start_date, out_end_date"
   ]
  },
  {
   "cell_type": "code",
   "execution_count": null,
   "id": "fcf598fa-9c78-484e-8ce9-0879b9bcf792",
   "metadata": {},
   "outputs": [],
   "source": [
    "scraped_data = json.load(open(\"scrapped_data.json\", \"r\"))\n",
    "\n",
    "price_pattern = '(\\w*):\\s*\\*\\*\\s*\\$(\\d*\\-*\\d*)\\*\\*'\n",
    "title_pattern = '\\[GB\\]\\s*(.*)\\s*//'\n",
    "date_pattern = '//(.*)-(.*)'\n",
    "\n",
    "type_list = []\n",
    "price_list = []\n",
    "title_list = []\n",
    "start_list = []\n",
    "end_list = []\n",
    "\n",
    "for scrp in scraped_data:\n",
    "  tup_list = re.findall(price_pattern, scrp['sticky_comment'].replace('\\n', ''))\n",
    "  title = re.findall(title_pattern, scrp['title'].replace('\\n', ''))[0] #Title should match only 1 string\n",
    "  \n",
    "  # first index is for tuple, second index is for the starting/ending date\n",
    "  start_date = re.findall(date_pattern, scrp['title'].replace('\\n', ''))[0][0].strip().lower()\n",
    "  end_date = re.findall(date_pattern, scrp['title'].replace('\\n', ''))[0][1].strip().lower()\n",
    "  \n",
    "  #print(start_date, end_date)\n",
    "  start_date, end_date = process_date(start_date, end_date)\n",
    "  \n",
    "  for tup in tup_list: \n",
    "    type_list.append(tup[0])\n",
    "    price_list.append(tup[1])\n",
    "    title_list.append(title)\n",
    "    start_list.append(start_date)\n",
    "    end_list.append(end_date)\n",
    "\n",
    "      \n",
    "df = pd.DataFrame({'title': title_list, 'type': type_list, 'price': price_list, 'start_date': start_list, 'end_date':end_list})\n",
    "df"
   ]
  },
  {
   "cell_type": "code",
   "execution_count": null,
   "id": "ccc3698f-9d82-4ae0-8cb1-8ff5286ad329",
   "metadata": {},
   "outputs": [],
   "source": [
    "title_list"
   ]
  },
  {
   "cell_type": "code",
   "execution_count": null,
   "id": "16f01c5e-9e4b-41f1-b95e-4321952b44a6",
   "metadata": {},
   "outputs": [],
   "source": [
    "price_list"
   ]
  },
  {
   "cell_type": "markdown",
   "id": "efd4bb1a-88c2-4d35-8a9d-c8d760f54784",
   "metadata": {},
   "source": [
    "### Distribution of price"
   ]
  },
  {
   "cell_type": "markdown",
   "id": "b8b8d692-0d45-4816-bcc5-c0ca989d023a",
   "metadata": {},
   "source": [
    "### Distribution of Keyboard Type "
   ]
  },
  {
   "cell_type": "markdown",
   "id": "15adf390-4547-446b-9fa8-44f106953d42",
   "metadata": {},
   "source": [
    "### Distribution of the Studio "
   ]
  },
  {
   "cell_type": "markdown",
   "id": "f077b324-1425-4789-ac8e-ca00bdc5594f",
   "metadata": {},
   "source": [
    "### Visualization of number of active group buy in a Year (maybe a stack chart of avaialble group buys/ price need to buy everything, etc.)"
   ]
  },
  {
   "cell_type": "markdown",
   "id": "93b065a3-6002-4858-9cab-e6ab4625f320",
   "metadata": {},
   "source": [
    "### Time from Group Buy to Release (as per the initial announcement data)"
   ]
  },
  {
   "cell_type": "code",
   "execution_count": null,
   "id": "8a9d2612-e8b0-449b-98de-10b2bf509ba6",
   "metadata": {},
   "outputs": [],
   "source": []
  }
 ],
 "metadata": {
  "kernelspec": {
   "display_name": "Python 3 (ipykernel)",
   "language": "python",
   "name": "python3"
  },
  "language_info": {
   "codemirror_mode": {
    "name": "ipython",
    "version": 3
   },
   "file_extension": ".py",
   "mimetype": "text/x-python",
   "name": "python",
   "nbconvert_exporter": "python",
   "pygments_lexer": "ipython3",
   "version": "3.10.9"
  }
 },
 "nbformat": 4,
 "nbformat_minor": 5
}

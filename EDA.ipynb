{
 "cells": [
  {
   "cell_type": "code",
   "execution_count": null,
   "id": "6352cfd8-f108-4baa-bb3b-b4f9154477af",
   "metadata": {},
   "outputs": [],
   "source": [
    "import re\n",
    "import os\n",
    "import json\n",
    "import datetime as dt\n",
    "import numpy as np\n",
    "import pandas as pd\n",
    "\n",
    "import seaborn as sns\n",
    "import matplotlib.pyplot as plt"
   ]
  },
  {
   "cell_type": "code",
   "execution_count": null,
   "id": "1df00f1c-f72d-4735-87ee-d4892e3873c2",
   "metadata": {},
   "outputs": [],
   "source": [
    "key_group = ['title', 'vendor', 'country']\n",
    "INPUT_DF = 'processed_df.parquet'"
   ]
  },
  {
   "cell_type": "code",
   "execution_count": null,
   "id": "10c0848c-44ab-47fa-94c7-2a284231b050",
   "metadata": {},
   "outputs": [],
   "source": [
    "df = pd.read_parquet(INPUT_DF)\n",
    "\n",
    "df['year'] = df['start_date'].dt.year\n",
    "cond = df['year'].notna()\n",
    "\n",
    "df['year_product'] = df.loc[cond, 'year'].astype(int).astype(str)  + \"_\" + df.loc[cond, 'product'].astype(str)\n",
    "df['product_year'] = df.loc[cond, 'product'].astype(str) + \"_\" + df.loc[cond, 'year'].astype(int).astype(str)\n",
    "\n",
    "# Keycap brand\n",
    "df.loc[cond, 'year_brand'] = df.loc[cond, 'year'].astype(int).astype(str)  + \"_\" + df.loc[cond, 'keycap_brand'].astype(str)\n",
    "df.loc[cond, 'brand_year'] = df.loc[cond, 'keycap_brand'].astype(str) + \"_\" + df.loc[cond, 'year'].astype(int).astype(str)\n",
    "\n",
    "min_date_analysis = df['start_date'].min().strftime('%d-%b-%Y')\n",
    "max_date_analysis = df['start_date'].max().strftime('%d-%b-%Y')"
   ]
  },
  {
   "cell_type": "code",
   "execution_count": null,
   "id": "a51626a4-a31d-43a3-8916-c9ed02ebffb2",
   "metadata": {},
   "outputs": [],
   "source": [
    "df.shape , df[df['base_price'].isna()].shape, df[df['start_date'].isna()].shape, df[df['end_date'].isna()].shape"
   ]
  },
  {
   "cell_type": "markdown",
   "id": "54afefe7-e1ba-47f8-ba0d-f89dbbd95e6f",
   "metadata": {},
   "source": [
    "### Distribution of price"
   ]
  },
  {
   "cell_type": "code",
   "execution_count": null,
   "id": "04dad1d6-7249-4541-8551-e0b6a361cb91",
   "metadata": {},
   "outputs": [],
   "source": [
    "fig, axes = plt.subplots(2, 1, figsize=(8,10))\n",
    "\n",
    "df_bar = df.loc[(df['base_price'].notna()) & (df['product'].notna()), :].copy().drop_duplicates(['title', 'product', 'base_price'])\n",
    "df_bar['base_price'] = df_bar['base_price'].astype(float)\n",
    "df_bar['sum_base_price'] = df_bar.groupby('product_year')['base_price'].transform('sum')\n",
    "df_bar['count_base_price'] = df_bar.groupby('product_year')['base_price'].transform('count')\n",
    "df_bar = df_bar.sort_values('product_year')\n",
    "\n",
    "sns.barplot(data=df_bar, x=\"product_year\", y=\"count_base_price\", hue=\"product\", ax=axes[0], dodge=False)\n",
    "axes[0].tick_params(axis='x', labelrotation = 75)\n",
    "axes[0].set_title(f'Count of each Mech Product (USD) from {min_date_analysis} to {max_date_analysis}')\n",
    "axes[0].grid()\n",
    "axes[0].legend()\n",
    "\n",
    "sns.barplot(data=df_bar, x=\"year_product\", y=\"sum_base_price\", hue=\"product\", ax=axes[1], dodge=False)\n",
    "axes[1].tick_params(axis='x', labelrotation = 75)\n",
    "axes[1].set_title(f'Market Cap of each Mech Product (USD) from {min_date_analysis} to {max_date_analysis}')\n",
    "axes[1].grid()\n",
    "axes[1].legend()\n",
    "fig.tight_layout()"
   ]
  },
  {
   "cell_type": "markdown",
   "id": "bb3e4dce-b434-4a89-aa09-9707fba6daba",
   "metadata": {},
   "source": [
    "### Distribution of Keyboard Type \n",
    "Hard to achieve right now"
   ]
  },
  {
   "cell_type": "markdown",
   "id": "a6a0e8a5-0ab8-4027-b36c-932527d45a6c",
   "metadata": {},
   "source": [
    "### Distribution of Keycap Producer \n",
    "Hard to achieve right now"
   ]
  },
  {
   "cell_type": "code",
   "execution_count": null,
   "id": "f7a7a011-cbdf-4eef-8530-b7381747b343",
   "metadata": {},
   "outputs": [],
   "source": [
    "fig, axes = plt.subplots(2, 1, figsize=(12, 8))\n",
    "\n",
    "df_bar = df.loc[df['product'] == 'keycap', ['title', 'keycap_brand', 'start_date', 'year', 'brand_year']].copy().drop_duplicates(['title'])\n",
    "\n",
    "color_map = {}\n",
    "color_list = plt.cm.rainbow(np.linspace(0, 1, 10))\n",
    "brand_list = df_bar['keycap_brand'].unique().tolist()\n",
    "for i, brand in enumerate(brand_list):\n",
    "  color_map[brand] = color_list[i % len(color_list)]\n",
    "df_bar['color'] = df_bar['keycap_brand'].apply(lambda x: color_map[x])\n",
    "\n",
    "df_bar1 = df_bar.groupby('keycap_brand')['title'].agg('count').reset_index().sort_values('title', ascending=False)\n",
    "df_bar['count_year_brand'] = df_bar.groupby(['keycap_brand', 'year'])['title'].transform('count')\n",
    "#df_bar2 = df_bar2.merge(df_bar[['keycap_brand', 'color']], on='keycap_brand', how='left')\n",
    "df_bar2 = df_bar.loc[df_bar['year'].notna(), :].copy().sort_values(['keycap_brand', 'year']).copy()\n",
    "\n",
    "#axes[0].bar(df_bar1['keycap_brand'], df_bar1['title'])\n",
    "sns.barplot(data=df_bar1, x=\"keycap_brand\", y=\"title\", hue='keycap_brand', ax=axes[0], dodge=False, hue_order=brand_list)\n",
    "axes[0].tick_params(axis='x', labelrotation = 45)\n",
    "axes[0].set_title(f'Count of Each Keycap Studio Group Buy from {min_date_analysis} to {max_date_analysis}')\n",
    "axes[0].grid()\n",
    "\n",
    "sns.barplot(data=df_bar2, x=\"brand_year\", y=\"count_year_brand\", hue=\"keycap_brand\", ax=axes[1], dodge=False, hue_order=brand_list)\n",
    "axes[1].tick_params(axis='x', labelrotation = 90)\n",
    "axes[1].grid()\n",
    "fig.tight_layout()"
   ]
  },
  {
   "cell_type": "markdown",
   "id": "8d50c890-4a71-4e56-acd3-7314e10bb9eb",
   "metadata": {},
   "source": [
    "### Distribution of the Vendor (80% of the group buy)"
   ]
  },
  {
   "cell_type": "code",
   "execution_count": null,
   "id": "9ed45835-c408-4d49-9bd1-9497ab56f0ee",
   "metadata": {},
   "outputs": [],
   "source": [
    "# fig, ax = plt.subplots(figsize=(10, 4))\n",
    "# df_bar = df.loc[:, ['vendor', 'title']].copy()\n",
    "# df_bar = df_bar.groupby('vendor')['title'].agg('count').reset_index().sort_values('title', ascending=False)\n",
    "# df_bar['cumsum'] = df_bar['title'].cumsum()       \n",
    "# df_bar['percentile'] = df_bar['cumsum'] / df_bar['title'].sum()\n",
    "# df_bar = df_bar.loc[df_bar['percentile'] > 0.8, :].copy()\n",
    "\n",
    "# df_bar = df_bar.reset_index().iloc[:20]\n",
    "\n",
    "# #df_bar\n",
    "# ax.bar(df_bar['vendor'], df_bar['title'])\n",
    "# ax.tick_params(axis='x', labelrotation = 90)"
   ]
  },
  {
   "cell_type": "markdown",
   "id": "715b01e5-27f7-417b-a1cf-a8ae6bf50cad",
   "metadata": {},
   "source": [
    "### Visualization of number of active group buy in a Year (maybe a stack chart of available group buys/ price need to buy everything, etc.)\n",
    "Would need a lot of data transformation to be in daily level (the goal is to have. a representation in each day, how many groupbuy are available, what are they, etc.)"
   ]
  },
  {
   "cell_type": "code",
   "execution_count": null,
   "id": "3f9983d5-f48b-4513-a074-a15605d8bfc2",
   "metadata": {},
   "outputs": [],
   "source": [
    "df.shape, df[df['start_date'].notna() & (df['end_date']!='sold out')].shape"
   ]
  },
  {
   "cell_type": "code",
   "execution_count": null,
   "id": "f5dbd10a-b6c4-457d-bf10-e4eb34d91c72",
   "metadata": {},
   "outputs": [],
   "source": [
    "df_day = df[df['start_date'].notna() & (df['end_date']!='sold out')].copy()\n",
    "df_day['end_date'] = df_day['end_date'].astype('datetime64[D]')\n",
    "df_day['start_end_list'] = df_day.apply(lambda x: [x['start_date'] + dt.timedelta(days=i) for i in range((x['end_date'] - x['start_date']).days)] , axis=1)\n",
    "df_day = df_day.explode('start_end_list')\n",
    "df_day = df_day.rename(columns={'start_end_list': 'date'})\n",
    "#df.columns"
   ]
  },
  {
   "cell_type": "code",
   "execution_count": null,
   "id": "6b4614a7-76bb-4452-a131-3ca6abc71e75",
   "metadata": {},
   "outputs": [],
   "source": [
    "df_day = df_day.loc[:, ['title', 'product', 'date']].drop_duplicates(['title', 'date']).copy()\n",
    "df_day['count_product_in_day'] = df_day.groupby(['date', 'product'])['title'].transform('count')\n",
    "df_day['count_in_day'] = df_day.groupby(['date'])['title'].transform('count')\n",
    "\n",
    "df_day = df_day.sort_values(['date', 'product'])"
   ]
  },
  {
   "cell_type": "code",
   "execution_count": null,
   "id": "369f33b1-1c56-4e96-af21-029f299ab17a",
   "metadata": {},
   "outputs": [],
   "source": [
    "fig, ax = plt.subplots(figsize=(20, 8))\n",
    "sns.set_color_codes(\"pastel\")\n",
    "#sns.barplot(x=\"date\", y=\"count_in_day\", data=df_day, label=\"Total\", color=\"b\", ax=ax)\n",
    "sns.lineplot(data=df_day, x=\"date\", y=\"count_product_in_day\", hue=\"product\")"
   ]
  },
  {
   "cell_type": "markdown",
   "id": "fce523e9-4678-4281-96fc-52ac1fef68a5",
   "metadata": {},
   "source": [
    "### Moneys you need to buy all group buy (will have different cases, buy only bases > min cases, buy all the available things)"
   ]
  },
  {
   "cell_type": "markdown",
   "id": "ad433bcb-d489-47c5-bac9-7711bc68f3ba",
   "metadata": {},
   "source": [
    "### Time from Group Buy to Release (as per the initial announcement data)"
   ]
  },
  {
   "cell_type": "code",
   "execution_count": null,
   "id": "a7374a72-974c-4678-9d52-180aae9713c1",
   "metadata": {},
   "outputs": [],
   "source": []
  }
 ],
 "metadata": {
  "kernelspec": {
   "display_name": "Python 3 (ipykernel)",
   "language": "python",
   "name": "python3"
  },
  "language_info": {
   "codemirror_mode": {
    "name": "ipython",
    "version": 3
   },
   "file_extension": ".py",
   "mimetype": "text/x-python",
   "name": "python",
   "nbconvert_exporter": "python",
   "pygments_lexer": "ipython3",
   "version": "3.10.9"
  }
 },
 "nbformat": 4,
 "nbformat_minor": 5
}

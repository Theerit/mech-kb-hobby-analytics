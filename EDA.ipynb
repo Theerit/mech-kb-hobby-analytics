{
 "cells": [
  {
   "cell_type": "code",
   "execution_count": null,
   "id": "6352cfd8-f108-4baa-bb3b-b4f9154477af",
   "metadata": {},
   "outputs": [],
   "source": [
    "import re\n",
    "import os\n",
    "import json\n",
    "import datetime as dt\n",
    "import pandas as pd\n",
    "\n",
    "import matplotlib.pyplot as plt"
   ]
  },
  {
   "cell_type": "code",
   "execution_count": null,
   "id": "1df00f1c-f72d-4735-87ee-d4892e3873c2",
   "metadata": {},
   "outputs": [],
   "source": [
    "key_group = ['title', 'vendor', 'country']\n",
    "INPUT_DF = 'processed_df.parquet'"
   ]
  },
  {
   "cell_type": "code",
   "execution_count": null,
   "id": "10c0848c-44ab-47fa-94c7-2a284231b050",
   "metadata": {},
   "outputs": [],
   "source": [
    "df = pd.read_parquet(INPUT_DF)"
   ]
  },
  {
   "cell_type": "code",
   "execution_count": null,
   "id": "a51626a4-a31d-43a3-8916-c9ed02ebffb2",
   "metadata": {},
   "outputs": [],
   "source": [
    "df[df['base_price'].isna()].shape, df[df['start_date'].isna()].shape, df[df['end_date'].isna()].shape"
   ]
  },
  {
   "cell_type": "code",
   "execution_count": null,
   "id": "a4ac0170-c38a-4b5e-8375-fd93d9890a41",
   "metadata": {},
   "outputs": [],
   "source": [
    "df.sort_values('base_price', ascending=False)"
   ]
  },
  {
   "cell_type": "markdown",
   "id": "54afefe7-e1ba-47f8-ba0d-f89dbbd95e6f",
   "metadata": {},
   "source": [
    "### Distribution of price"
   ]
  },
  {
   "cell_type": "code",
   "execution_count": null,
   "id": "04dad1d6-7249-4541-8551-e0b6a361cb91",
   "metadata": {},
   "outputs": [],
   "source": [
    "fig, ax = plt.subplots(figsize=(8,6))\n",
    "\n",
    "df_bar = df.loc[(df['base_price'].notna()) & (df['product'].notna()), :].copy().drop_duplicates(['title', 'product', 'base_price'])\n",
    "df_bar['base_price'] = df_bar['base_price'].astype(float)\n",
    "\n",
    "ax.bar(df_bar['product'], df_bar['base_price'])\n",
    "ax.set_title('Sum of Market Cap of each Mech Product (USD)')\n",
    "ax.grid()"
   ]
  },
  {
   "cell_type": "markdown",
   "id": "bb3e4dce-b434-4a89-aa09-9707fba6daba",
   "metadata": {},
   "source": [
    "### Distribution of Keyboard Type "
   ]
  },
  {
   "cell_type": "markdown",
   "id": "8d50c890-4a71-4e56-acd3-7314e10bb9eb",
   "metadata": {},
   "source": [
    "### Distribution of the Studio "
   ]
  },
  {
   "cell_type": "markdown",
   "id": "715b01e5-27f7-417b-a1cf-a8ae6bf50cad",
   "metadata": {},
   "source": [
    "### Visualization of number of active group buy in a Year (maybe a stack chart of avaialble group buys/ price need to buy everything, etc.)"
   ]
  },
  {
   "cell_type": "markdown",
   "id": "ad433bcb-d489-47c5-bac9-7711bc68f3ba",
   "metadata": {},
   "source": [
    "### Time from Group Buy to Release (as per the initial announcement data)"
   ]
  },
  {
   "cell_type": "code",
   "execution_count": null,
   "id": "a7374a72-974c-4678-9d52-180aae9713c1",
   "metadata": {},
   "outputs": [],
   "source": []
  }
 ],
 "metadata": {
  "kernelspec": {
   "display_name": "Python 3 (ipykernel)",
   "language": "python",
   "name": "python3"
  },
  "language_info": {
   "codemirror_mode": {
    "name": "ipython",
    "version": 3
   },
   "file_extension": ".py",
   "mimetype": "text/x-python",
   "name": "python",
   "nbconvert_exporter": "python",
   "pygments_lexer": "ipython3",
   "version": "3.10.9"
  }
 },
 "nbformat": 4,
 "nbformat_minor": 5
}
